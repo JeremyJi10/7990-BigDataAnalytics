{
 "cells": [
  {
   "cell_type": "code",
   "execution_count": 6,
   "metadata": {},
   "outputs": [
    {
     "name": "stdout",
     "output_type": "stream",
     "text": [
      "['1\\t260\\t1\\t0.0\\t444:2\\n', '1\\t259\\t1\\t0.0\\t443:2\\n', '1\\t258\\t1\\t0.0\\t442:2\\n', '1\\t257\\t1\\t0.0\\t441:2\\n', '1\\t256\\t1\\t0.0\\t440:2\\n']\n"
     ]
    }
   ],
   "source": [
    "l1 = open('Relations.dat','r')\n",
    "list1=[]\n",
    "for i in l1:\n",
    "    list1.append(i)\n",
    "\n",
    "print(list1[1:6])\n"
   ]
  },
  {
   "cell_type": "code",
   "execution_count": 7,
   "metadata": {},
   "outputs": [
    {
     "name": "stdout",
     "output_type": "stream",
     "text": [
      "index of term1: 219\n",
      "index of term2: 220\n",
      "['366:2', '379:2', '1']\n",
      "['367:2', '380:2', '1']\n",
      "\n",
      "['1518:2', '1801:2', '2163:2', '6']\n",
      "['1445:2', '1519:2', '1802:2', '1906:2', '2164:2', '6']\n",
      "\n",
      "['579:2', '981:2', '94']\n",
      "['10:2', '23:2', '727:2', '982:2', '10:1', '94']\n",
      "\n",
      "['565:2', '741:2', '100']\n",
      "['742:2', '100']\n",
      "\n",
      "['577:2', '790:2', '106']\n",
      "['5:2', '17:2', '720:2', '791:2', '5:1', '106']\n",
      "\n",
      "['585:2', '913:2', '218']\n",
      "['7:2', '23:2', '730:2', '914:2', '7:1', '218']\n",
      "\n"
     ]
    }
   ],
   "source": [
    "#checking part\n",
    "term1 = input('index of term1: ')\n",
    "term2 = input('index of term2: ')\n",
    "for a in list1:\n",
    "    line = a.split()\n",
    "    if line[1]==term1:\n",
    "        for b in list1:\n",
    "            line2 = b.split()\n",
    "            if line2[1]==term2 and line[0] == line2[0]:\n",
    "                TERM1 = line[4].split(';')\n",
    "                TERM2 = line2[4].split(';')\n",
    "                TERM1.append(line[0])\n",
    "                TERM2.append(line2[0])\n",
    "                print(TERM1)\n",
    "                print(TERM2)\n",
    "                print('')\n",
    "                            "
   ]
  },
  {
   "cell_type": "code",
   "execution_count": 8,
   "metadata": {},
   "outputs": [
    {
     "name": "stdout",
     "output_type": "stream",
     "text": [
      "[[2, '1'], [3, '6'], [1, '94'], [1, '100'], [1, '106'], [1, '218']]\n"
     ]
    }
   ],
   "source": [
    "list3 = []\n",
    "for a in list1:\n",
    "    line = a.split()\n",
    "    if line[1]==term1:\n",
    "        for b in list1:\n",
    "            line2 = b.split()\n",
    "            if line2[1]==term2 and line[0] == line2[0]:\n",
    "                TERM1 = line[4].split(';')\n",
    "                TERM2 = line2[4].split(';')\n",
    "                TF=0\n",
    "                list2 = []\n",
    "                for pos1 in TERM1:\n",
    "                    for pos2 in TERM2:\n",
    "                        if int(pos2[:-2])-int(pos1[:-2])==1:\n",
    "                            TF+=1\n",
    "                list2.append(TF)\n",
    "                list2.append(line[0])\n",
    "                list3.append(list2)\n",
    "print(list3)\n",
    "               "
   ]
  },
  {
   "cell_type": "code",
   "execution_count": 9,
   "metadata": {},
   "outputs": [
    {
     "name": "stdout",
     "output_type": "stream",
     "text": [
      "[[3, '6'], [2, '1'], [1, '94'], [1, '218'], [1, '106'], [1, '100']]\n"
     ]
    }
   ],
   "source": [
    "list3.sort()\n",
    "list3.reverse()\n",
    "print(list3)"
   ]
  },
  {
   "cell_type": "code",
   "execution_count": 10,
   "metadata": {},
   "outputs": [
    {
     "name": "stdout",
     "output_type": "stream",
     "text": [
      "Ranking\n",
      "PageIndex TF\n",
      "----------------\n",
      "6          3\n",
      "1          2\n",
      "94         1\n",
      "218        1\n",
      "106        1\n",
      "100        1\n"
     ]
    }
   ],
   "source": [
    "print('Ranking')\n",
    "print('PageIndex','TF')\n",
    "print('----------------')\n",
    "for rank1 in list3:\n",
    "    print(rank1[1],(9-len(rank1[1]))*' ',rank1[0])\n",
    "    \n",
    "l1.close()"
   ]
  },
  {
   "cell_type": "code",
   "execution_count": null,
   "metadata": {},
   "outputs": [],
   "source": []
  }
 ],
 "metadata": {
  "kernelspec": {
   "display_name": "Python 3",
   "language": "python",
   "name": "python3"
  },
  "language_info": {
   "codemirror_mode": {
    "name": "ipython",
    "version": 3
   },
   "file_extension": ".py",
   "mimetype": "text/x-python",
   "name": "python",
   "nbconvert_exporter": "python",
   "pygments_lexer": "ipython3",
   "version": "3.7.3"
  }
 },
 "nbformat": 4,
 "nbformat_minor": 2
}
